{
 "cells": [
  {
   "cell_type": "code",
   "execution_count": 1,
   "id": "19457268-1fa4-437b-8b99-a345f36cc780",
   "metadata": {},
   "outputs": [],
   "source": [
    "import psycopg2 as ps\n",
    "import pandas as pd\n",
    "import numpy as np\n",
    "import minhash as mh\n",
    "from tqdm import tqdm"
   ]
  },
  {
   "cell_type": "code",
   "execution_count": 2,
   "id": "677988a8-beb1-4156-8558-e83e9901e0b9",
   "metadata": {},
   "outputs": [
    {
     "name": "stderr",
     "output_type": "stream",
     "text": [
      "C:\\Users\\lnhei\\AppData\\Local\\Temp\\ipykernel_7092\\394997217.py:17: UserWarning: pandas only supports SQLAlchemy connectable (engine/connection) or database string URI or sqlite3 DBAPI2 connection. Other DBAPI2 objects are not tested. Please consider using SQLAlchemy.\n",
      "  table_df = pd.read_sql(query, con=engine)\n",
      "C:\\Users\\lnhei\\AppData\\Local\\Temp\\ipykernel_7092\\394997217.py:24: UserWarning: pandas only supports SQLAlchemy connectable (engine/connection) or database string URI or sqlite3 DBAPI2 connection. Other DBAPI2 objects are not tested. Please consider using SQLAlchemy.\n",
      "  columnn_df = pd.read_sql(q, con=engine)\n",
      "C:\\Users\\lnhei\\AppData\\Local\\Temp\\ipykernel_7092\\394997217.py:24: UserWarning: pandas only supports SQLAlchemy connectable (engine/connection) or database string URI or sqlite3 DBAPI2 connection. Other DBAPI2 objects are not tested. Please consider using SQLAlchemy.\n",
      "  columnn_df = pd.read_sql(q, con=engine)\n",
      "C:\\Users\\lnhei\\AppData\\Local\\Temp\\ipykernel_7092\\394997217.py:24: UserWarning: pandas only supports SQLAlchemy connectable (engine/connection) or database string URI or sqlite3 DBAPI2 connection. Other DBAPI2 objects are not tested. Please consider using SQLAlchemy.\n",
      "  columnn_df = pd.read_sql(q, con=engine)\n",
      "C:\\Users\\lnhei\\AppData\\Local\\Temp\\ipykernel_7092\\394997217.py:34: UserWarning: pandas only supports SQLAlchemy connectable (engine/connection) or database string URI or sqlite3 DBAPI2 connection. Other DBAPI2 objects are not tested. Please consider using SQLAlchemy.\n",
      "  df = pd.read_sql(q, con=engine)\n",
      "C:\\Users\\lnhei\\AppData\\Local\\Temp\\ipykernel_7092\\394997217.py:34: UserWarning: pandas only supports SQLAlchemy connectable (engine/connection) or database string URI or sqlite3 DBAPI2 connection. Other DBAPI2 objects are not tested. Please consider using SQLAlchemy.\n",
      "  df = pd.read_sql(q, con=engine)\n",
      "C:\\Users\\lnhei\\AppData\\Local\\Temp\\ipykernel_7092\\394997217.py:34: UserWarning: pandas only supports SQLAlchemy connectable (engine/connection) or database string URI or sqlite3 DBAPI2 connection. Other DBAPI2 objects are not tested. Please consider using SQLAlchemy.\n",
      "  df = pd.read_sql(q, con=engine)\n",
      "C:\\Users\\lnhei\\AppData\\Local\\Temp\\ipykernel_7092\\394997217.py:34: UserWarning: pandas only supports SQLAlchemy connectable (engine/connection) or database string URI or sqlite3 DBAPI2 connection. Other DBAPI2 objects are not tested. Please consider using SQLAlchemy.\n",
      "  df = pd.read_sql(q, con=engine)\n",
      "C:\\Users\\lnhei\\AppData\\Local\\Temp\\ipykernel_7092\\394997217.py:34: UserWarning: pandas only supports SQLAlchemy connectable (engine/connection) or database string URI or sqlite3 DBAPI2 connection. Other DBAPI2 objects are not tested. Please consider using SQLAlchemy.\n",
      "  df = pd.read_sql(q, con=engine)\n",
      "C:\\Users\\lnhei\\AppData\\Local\\Temp\\ipykernel_7092\\394997217.py:34: UserWarning: pandas only supports SQLAlchemy connectable (engine/connection) or database string URI or sqlite3 DBAPI2 connection. Other DBAPI2 objects are not tested. Please consider using SQLAlchemy.\n",
      "  df = pd.read_sql(q, con=engine)\n",
      "C:\\Users\\lnhei\\AppData\\Local\\Temp\\ipykernel_7092\\394997217.py:34: UserWarning: pandas only supports SQLAlchemy connectable (engine/connection) or database string URI or sqlite3 DBAPI2 connection. Other DBAPI2 objects are not tested. Please consider using SQLAlchemy.\n",
      "  df = pd.read_sql(q, con=engine)\n",
      "C:\\Users\\lnhei\\AppData\\Local\\Temp\\ipykernel_7092\\394997217.py:34: UserWarning: pandas only supports SQLAlchemy connectable (engine/connection) or database string URI or sqlite3 DBAPI2 connection. Other DBAPI2 objects are not tested. Please consider using SQLAlchemy.\n",
      "  df = pd.read_sql(q, con=engine)\n",
      "C:\\Users\\lnhei\\AppData\\Local\\Temp\\ipykernel_7092\\394997217.py:34: UserWarning: pandas only supports SQLAlchemy connectable (engine/connection) or database string URI or sqlite3 DBAPI2 connection. Other DBAPI2 objects are not tested. Please consider using SQLAlchemy.\n",
      "  df = pd.read_sql(q, con=engine)\n",
      "C:\\Users\\lnhei\\AppData\\Local\\Temp\\ipykernel_7092\\394997217.py:34: UserWarning: pandas only supports SQLAlchemy connectable (engine/connection) or database string URI or sqlite3 DBAPI2 connection. Other DBAPI2 objects are not tested. Please consider using SQLAlchemy.\n",
      "  df = pd.read_sql(q, con=engine)\n",
      "C:\\Users\\lnhei\\AppData\\Local\\Temp\\ipykernel_7092\\394997217.py:34: UserWarning: pandas only supports SQLAlchemy connectable (engine/connection) or database string URI or sqlite3 DBAPI2 connection. Other DBAPI2 objects are not tested. Please consider using SQLAlchemy.\n",
      "  df = pd.read_sql(q, con=engine)\n",
      "C:\\Users\\lnhei\\AppData\\Local\\Temp\\ipykernel_7092\\394997217.py:34: UserWarning: pandas only supports SQLAlchemy connectable (engine/connection) or database string URI or sqlite3 DBAPI2 connection. Other DBAPI2 objects are not tested. Please consider using SQLAlchemy.\n",
      "  df = pd.read_sql(q, con=engine)\n",
      "C:\\Users\\lnhei\\AppData\\Local\\Temp\\ipykernel_7092\\394997217.py:34: UserWarning: pandas only supports SQLAlchemy connectable (engine/connection) or database string URI or sqlite3 DBAPI2 connection. Other DBAPI2 objects are not tested. Please consider using SQLAlchemy.\n",
      "  df = pd.read_sql(q, con=engine)\n",
      "C:\\Users\\lnhei\\AppData\\Local\\Temp\\ipykernel_7092\\394997217.py:34: UserWarning: pandas only supports SQLAlchemy connectable (engine/connection) or database string URI or sqlite3 DBAPI2 connection. Other DBAPI2 objects are not tested. Please consider using SQLAlchemy.\n",
      "  df = pd.read_sql(q, con=engine)\n",
      "C:\\Users\\lnhei\\AppData\\Local\\Temp\\ipykernel_7092\\394997217.py:34: UserWarning: pandas only supports SQLAlchemy connectable (engine/connection) or database string URI or sqlite3 DBAPI2 connection. Other DBAPI2 objects are not tested. Please consider using SQLAlchemy.\n",
      "  df = pd.read_sql(q, con=engine)\n",
      "100%|██████████████████████████████████████████████████████████████████████████████████████████████████████████████████████████████████████████████████████████████| 26100/26100 [00:00<00:00, 149648.32it/s]\n",
      "100%|█████████████████████████████████████████████████████████████████████████████████████████████████████████████████████████████████████████████████████████████████| 26100/26100 [00:53<00:00, 485.33it/s]\n"
     ]
    }
   ],
   "source": [
    "# Establish connection\n",
    "engine = ps.connect(host='examplecustomerdb.cvg88iwm6hkp.us-east-2.rds.amazonaws.com', \n",
    "                        database='examplecsvs', \n",
    "                        user='lnheinrich8', \n",
    "                        password='Skateboard4l!',\n",
    "                        port='5432'\n",
    "        )\n",
    "\n",
    "# Query to get table names\n",
    "query = \"\"\"\n",
    "SELECT table_name\n",
    "FROM information_schema.tables\n",
    "WHERE table_schema = 'public'\n",
    "\"\"\"\n",
    "\n",
    "# Get table names\n",
    "table_df = pd.read_sql(query, con=engine)\n",
    "table_list = list(table_df['table_name'])\n",
    "\n",
    "# Create dictionary of table columns\n",
    "table_dict = {}\n",
    "for table in table_list:\n",
    "    q = 'select * from ' + table + ' limit 0'\n",
    "    columnn_df = pd.read_sql(q, con=engine)\n",
    "    column_list = list(columnn_df)\n",
    "    table_dict[table] = column_list\n",
    "\n",
    "# Create the minhashkey dataframe\n",
    "findf = pd.DataFrame([])\n",
    "for key in table_dict.keys():\n",
    "    for i in table_dict[key]:\n",
    "        minhashkey = key + '_' + i\n",
    "        q = 'select ' + i + ' from ' + key\n",
    "        df = pd.read_sql(q, con=engine)\n",
    "        df.columns = ['match_string']\n",
    "        df['minhashkey'] = minhashkey\n",
    "        mydflength = np.arange(len(df))\n",
    "        df['minhashkey'] = [i + '_' + str(j) for (i,j) in zip(df['minhashkey'], mydflength)]\n",
    "        findf = pd.concat([findf, df], axis=0)\n",
    "\n",
    "findf = findf[['minhashkey', 'match_string']]\n",
    "\n",
    "# Ensure everything is a string\n",
    "findf['match_string'] = findf['match_string'].astype('str')\n",
    "\n",
    "# Clean the match_string column\n",
    "tqdm.pandas()\n",
    "findf['match_string'] = findf['match_string'].progress_apply(mh.clean, args=([], ))\n",
    "\n",
    "# Converting minhash dataframe to shingles of 3 chars\n",
    "match_shingles = findf.copy()\n",
    "match_shingles = mh.chargrams(3, ['match_string'], match_shingles)\n",
    "\n",
    "# Select only the required columns\n",
    "match_shingles = match_shingles[['minhashkey', 'match_string_ngrams']]\n",
    "\n",
    "# Replace nulls\n",
    "match_shingles['match_string_ngrams'] = match_shingles['match_string_ngrams'].replace(np.nan, '')\n",
    "\n",
    "# Create key set\n",
    "match_shingles['key_set'] = list(zip(match_shingles['minhashkey'],match_shingles['match_string_ngrams']))\n",
    "\n",
    "# create LSH index\n",
    "match_shingles['minhash'] = match_shingles['key_set'].progress_apply(mh.prep_minhash)   \n",
    "\n",
    "# Return list of approximate matches using minhash\n",
    "match_shingles['matches'] = match_shingles['minhash'].apply(mh.query_result)\n",
    "\n",
    "# filter self matches\n",
    "match_shingles['matches'] = match_shingles.apply(mh.filter_self_matches, axis=1)"
   ]
  },
  {
   "cell_type": "code",
   "execution_count": 4,
   "id": "c2c4bff5-b202-488f-93bb-3c2e635346b0",
   "metadata": {},
   "outputs": [
    {
     "name": "stdout",
     "output_type": "stream",
     "text": [
      "               minhashkey match_string_ngrams                        key_set  \\\n",
      "0  examplenames_name_id_0                 [1]  (examplenames_name_id_0, [1])   \n",
      "\n",
      "                                             minhash  \\\n",
      "0  (examplenames_name_id_0, <datasketch.lean_minh...   \n",
      "\n",
      "                                             matches  \n",
      "0  [exampleorderhistory_order_id_0, exampleproduc...  \n"
     ]
    }
   ],
   "source": [
    "pd.set_option('display.max_colwidth', None)  # No limit on column width\n",
    "pd.set_option('display.max_columns', None)  # Display all columns\n",
    "pd.set_option('display.max_rows', None)     # Display all rows\n",
    "print(match_shingles[0:1])"
   ]
  },
  {
   "cell_type": "code",
   "execution_count": null,
   "id": "11ef6e18-8289-43f1-9e47-b4a40bc84c5e",
   "metadata": {},
   "outputs": [],
   "source": [
    "pd.set_option('display.max_colwidth', None)  # No limit on column width\n",
    "pd.set_option('display.max_columns', None)  # Display all columns\n",
    "pd.set_option('display.max_rows', None)     # Display all rows\n",
    "print(match_shingles[1000:1001])"
   ]
  },
  {
   "cell_type": "code",
   "execution_count": null,
   "id": "9dce79e4-6b6b-46fa-aa2c-ef4a7f4994da",
   "metadata": {},
   "outputs": [],
   "source": []
  }
 ],
 "metadata": {
  "kernelspec": {
   "display_name": "Python 3 (ipykernel)",
   "language": "python",
   "name": "python3"
  },
  "language_info": {
   "codemirror_mode": {
    "name": "ipython",
    "version": 3
   },
   "file_extension": ".py",
   "mimetype": "text/x-python",
   "name": "python",
   "nbconvert_exporter": "python",
   "pygments_lexer": "ipython3",
   "version": "3.12.4"
  }
 },
 "nbformat": 4,
 "nbformat_minor": 5
}
